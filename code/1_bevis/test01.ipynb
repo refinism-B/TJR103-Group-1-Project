{
 "cells": [
  {
   "cell_type": "code",
   "execution_count": 44,
   "id": "ae176f6e",
   "metadata": {},
   "outputs": [],
   "source": [
    "import googlemaps\n",
    "from datetime import datetime\n",
    "\n",
    "\n",
    "\n",
    "\n",
    "def get_key(api_key_path):\n",
    "    \"\"\"提供key檔案路徑，自動讀取內容並回傳\"\"\"\n",
    "    with open(api_key_path, \"r\", encoding=\"UTF-8\") as f:\n",
    "        api_key = f.read()\n",
    "    \n",
    "    return api_key\n",
    "\n",
    "\n",
    "def trans_unix_to_date(timestamp):\n",
    "    \"\"\"將UNIX電腦時間轉換為西元年月日\"\"\"\n",
    "    # 將時間戳轉成 datetime 物件\n",
    "    dt = datetime.fromtimestamp(timestamp)\n",
    "\n",
    "    # 格式化成 \"年-月-日\"\n",
    "    date_str = dt.strftime('%Y-%m-%d')\n",
    "\n",
    "    return date_str\n",
    "\n",
    "\n",
    "def get_place_id(api_key: str, key_word: str):\n",
    "    \"\"\"提供關鍵字（最好是店名+地址），透過gmap搜尋取得place_id\"\"\"\n",
    "    gmaps = googlemaps.Client(key=api_key)\n",
    "    search_result = gmaps.places(query=key_word, language='zh-TW')\n",
    "    place_id = search_result.get(\"results\", {})[0][\"place_id\"]\n",
    "\n",
    "    return place_id\n",
    "\n",
    "\n",
    "def newest_review_date(review_list: list):\n",
    "    \"\"\"提供gmaps回傳的評論列表，回傳列表中最新的評論時間\"\"\"\n",
    "    for i in review_list:\n",
    "        time = 0\n",
    "        if i[\"time\"] > 0:\n",
    "            time = i[\"time\"]\n",
    "    date = trans_unix_to_date(time)\n",
    "\n",
    "    return date\n",
    "\n",
    "\n",
    "def gmap_info(api_key, place_id):\n",
    "    \"\"\"提供place_id，回傳名稱、營業狀態、營業時間、gmap評分、經緯度、gmap網址、最新評論日期\"\"\"\n",
    "    gmaps = googlemaps.Client(key=api_key)\n",
    "    detail = gmaps.place(place_id=place_id, language='zh-TW')\n",
    "    name = detail[\"result\"]['name']\n",
    "    business_status = detail[\"result\"][\"business_status\"]\n",
    "    opening_hours = detail[\"result\"][\"opening_hours\"][\"weekday_text\"]\n",
    "    rating = detail[\"result\"]['rating']\n",
    "    geocode = detail[\"result\"]['geometry']['location']\n",
    "    map_url = detail[\"result\"][\"url\"]\n",
    "    review_list = detail[\"result\"]['reviews']\n",
    "    newest_review = newest_review_date(review_list)\n",
    "\n",
    "    place_info = {\n",
    "        \"name\":name,\n",
    "        \"business_status\":business_status,\n",
    "        \"opening_hours\":opening_hours,\n",
    "        \"rating\":rating,\n",
    "        \"geocode\":geocode,\n",
    "        \"map_url\":map_url,\n",
    "        \"newest_review\":newest_review\n",
    "    }\n",
    "\n",
    "    return place_info\n"
   ]
  },
  {
   "cell_type": "code",
   "execution_count": 43,
   "id": "0ebd17d8",
   "metadata": {},
   "outputs": [
    {
     "name": "stdout",
     "output_type": "stream",
     "text": [
      "石‧撈麻辣鴛鴦鍋\n",
      "OPERATIONAL\n",
      "['星期一: 11:30 – 23:30', '星期二: 11:30 – 23:30', '星期三: 11:30 – 23:30', '星期四: 11:30 – 23:30', '星期五: 11:30 – 01:30', '星期六: 11:30 – 01:30', '星期日: 11:30 – 01:30']\n",
      "4.6\n",
      "{'lat': 25.0508864, 'lng': 121.5333484}\n",
      "https://maps.google.com/?cid=4451963419258517786\n",
      "2025-09-08\n"
     ]
    }
   ],
   "source": [
    "api_key_path = r\"C:\\Users\\add41\\Documents\\Data_Engineer\\Project\\TJR103-Group-1-Project\\code\\1_bevis\\tool\\map_api_key.txt\"\n",
    "key_word = \"石‧撈麻辣鴛鴦鍋\"\n",
    "\n",
    "api_key = get_key(api_key_path=api_key_path)\n",
    "place_id = get_place_id(api_key=api_key, key_word=key_word)\n",
    "gmap_info(api_key=api_key, place_id=place_id)\n"
   ]
  },
  {
   "cell_type": "code",
   "execution_count": null,
   "id": "efc9e845",
   "metadata": {},
   "outputs": [],
   "source": []
  }
 ],
 "metadata": {
  "kernelspec": {
   "display_name": "tjr103-group-1-project-405QYdcY-py3.11",
   "language": "python",
   "name": "python3"
  },
  "language_info": {
   "codemirror_mode": {
    "name": "ipython",
    "version": 3
   },
   "file_extension": ".py",
   "mimetype": "text/x-python",
   "name": "python",
   "nbconvert_exporter": "python",
   "pygments_lexer": "ipython3",
   "version": "3.11.9"
  }
 },
 "nbformat": 4,
 "nbformat_minor": 5
}
