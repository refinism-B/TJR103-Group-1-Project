{
 "cells": [
  {
   "cell_type": "code",
   "execution_count": 1,
   "id": "49ba32ed",
   "metadata": {},
   "outputs": [],
   "source": [
    "import requests\n",
    "import time\n",
    "from bs4 import BeautifulSoup\n",
    "import pandas as pd\n",
    "import json\n",
    "from datetime import date, datetime, timedelta\n",
    "from pathlib import Path\n",
    "from selenium import webdriver\n",
    "from selenium.webdriver.chrome.service import Service\n",
    "from selenium.webdriver.common.by import By"
   ]
  },
  {
   "cell_type": "code",
   "execution_count": null,
   "id": "7e8127e9",
   "metadata": {},
   "outputs": [
    {
     "name": "stdout",
     "output_type": "stream",
     "text": [
      "已完成新北市資料更新\n",
      "已完成台北市資料更新\n",
      "已完成台中市資料更新\n",
      "已完成台南市資料更新\n",
      "已完成高雄市資料更新\n",
      "已完成桃園市資料更新\n"
     ]
    }
   ],
   "source": [
    "city_dict = {\n",
    "    \"A\":\"新北市\",\n",
    "    \"V\":\"台北市\",\n",
    "    \"S\":\"台中市\",\n",
    "    \"U\":\"台南市\",\n",
    "    \"W\":\"高雄市\",\n",
    "    \"C\":\"桃園市\",\n",
    "}\n",
    "\n",
    "city_list = list(city_dict.keys())\n",
    "ani_list = [0, 1]\n",
    "\n",
    "for city in city_list:\n",
    "\n",
    "    columns = [\n",
    "    'AcceptNum',\n",
    "    'breedName',\n",
    "    'typeName',\n",
    "    'sexName',\n",
    "    'areaName',\n",
    "    'pic',\n",
    "    'ShelterName',\n",
    "    'MAXNum',\n",
    "    'UserTag'\n",
    "    ]\n",
    "\n",
    "    main_df = pd.DataFrame(columns=columns)\n",
    "\n",
    "    for ani in ani_list:\n",
    "        page = 1\n",
    "        while True:\n",
    "            url = \"https://www.pet.gov.tw/handler/AnimalsCore.ashx\"\n",
    "\n",
    "            headers = {\"user-agent\":\"Mozilla/5.0 (Windows NT 10.0; Win64; x64) AppleWebKit/537.36 (KHTML, like Gecko) Chrome/141.0.0.0 Safari/537.36\"}\n",
    "\n",
    "            data = {\n",
    "                \"Method\":\"AnimalsFront\",\n",
    "                \"Param\":json.dumps({\n",
    "                    \"action\":\"AnnounceMentData_Announce\",\n",
    "                    \"_FrontParam\":{\n",
    "                        \"PageSize\":100,\n",
    "                        \"PageNo\":page,\n",
    "                        \"AcNum\":\"\",\n",
    "                        \"CNum\":\"\",\n",
    "                        \"Shelter\":\"\",\n",
    "                        \"aType\":ani,\n",
    "                        \"aBreed\":\"\",\n",
    "                        \"PageType\":\"Announce\",\n",
    "                        \"PetSex\":\"\",\n",
    "                        \"HAIRCOLOR\":\"\",\n",
    "                        \"County\":city,\n",
    "                        \"Age\":\"\",\n",
    "                        \"County2\":\"\",\n",
    "                        \"DistrictTeam\":\"\"}\n",
    "                        })\n",
    "                }\n",
    "\n",
    "            res = requests.post(headers=headers, url=url, data=data)\n",
    "\n",
    "            if res.json().get(\"ErrorMessage\", None) == \"查無資料\":\n",
    "                break\n",
    "            else:\n",
    "                data_ori = res.json().get(\"Message\", {})\n",
    "                data = json.loads(data_ori)\n",
    "                df = pd.DataFrame(data)\n",
    "                main_df = pd.concat([main_df, df])\n",
    "\n",
    "                file_path = f\"C:/Users/add41/Documents/Data_Engineer/Project/example_data/wait_shelter/{city_dict[city]}_wait_pet.csv\"\n",
    "                main_df.to_csv(file_path, index=False)\n",
    "                page += 1\n",
    "                time.sleep(5)\n",
    "    print(f\"已完成{city_dict[city]}資料更新\")"
   ]
  },
  {
   "cell_type": "code",
   "execution_count": null,
   "id": "217763b8",
   "metadata": {},
   "outputs": [],
   "source": []
  }
 ],
 "metadata": {
  "kernelspec": {
   "display_name": "tjr103-group-1-project-405QYdcY-py3.11",
   "language": "python",
   "name": "python3"
  },
  "language_info": {
   "codemirror_mode": {
    "name": "ipython",
    "version": 3
   },
   "file_extension": ".py",
   "mimetype": "text/x-python",
   "name": "python",
   "nbconvert_exporter": "python",
   "pygments_lexer": "ipython3",
   "version": "3.11.9"
  }
 },
 "nbformat": 4,
 "nbformat_minor": 5
}
