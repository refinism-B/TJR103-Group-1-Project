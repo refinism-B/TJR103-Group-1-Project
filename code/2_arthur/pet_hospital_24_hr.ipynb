{
 "cells": [
  {
   "cell_type": "code",
   "execution_count": null,
   "id": "927c3395",
   "metadata": {},
   "outputs": [],
   "source": [
    "import pandas as pd\n",
    "import os\n",
    "import requests\n",
    "from bs4 import BeautifulSoup"
   ]
  },
  {
   "cell_type": "code",
   "execution_count": null,
   "id": "eb17bbfd",
   "metadata": {},
   "outputs": [],
   "source": [
    "URL = \"https://www.dogcatstar.com/blog/24hour-animal-hospital/?srsltid=AfmBOorT4sCf-7J95E1GuTg29XR3w-xYXl2qm-PZL1eOjPJ0k3ndzEem\"\n",
    "headers = {\n",
    "    \"User-Agent\": \"Mozilla/5.0 (Windows NT 10.0; Win64; x64) AppleWebKit/537.36 (KHTML, like Gecko) Chrome/141.0.0.0 Safari/537.36 Edg/141.0.0.0\"\n",
    "}"
   ]
  },
  {
   "cell_type": "code",
   "execution_count": null,
   "id": "e544aad5",
   "metadata": {},
   "outputs": [],
   "source": [
    "response = requests.get(URL, headers)\n",
    "soup = BeautifulSoup(response.text, \"html.parser\")\n",
    "# soup"
   ]
  },
  {
   "cell_type": "code",
   "execution_count": null,
   "id": "36b6d728",
   "metadata": {},
   "outputs": [],
   "source": [
    "# 所有的資訊都在p tag裡面\n",
    "p_tags = soup.select(\"p\")\n",
    "p_texts = [p.get_text(strip=True) for p in p_tags]\n",
    "\n",
    "# 只擷取符合醫院的elements\n",
    "p_texts = p_texts[3:9] + p_texts[13:51]\n",
    "\n",
    "# 只留下名稱跟地址的資料\n",
    "hospital_name_address = [item.split(\"電話：\")[0] for item in p_texts]\n",
    "hospital_name = [name.split(\"地址：\")[0].strip() for name in hospital_name_address]\n",
    "hospital_address = [address.split(\"地址：\")[-1].strip() for address in hospital_name_address]"
   ]
  },
  {
   "cell_type": "code",
   "execution_count": null,
   "id": "aa955ece",
   "metadata": {},
   "outputs": [],
   "source": [
    "# 將醫院名稱與地址放入DataFrame\n",
    "df = pd.DataFrame(\n",
    "    {\"hospital_name\": hospital_name, \"hospital_address\": hospital_address}\n",
    ")\n",
    "\n",
    "# 儲存row data\n",
    "path = \"../../data/raw/hospital_24_hr_data.csv\"\n",
    "os.makedirs(os.path.dirname(path), exist_ok=True)\n",
    "df.to_csv(path, index=False)\n",
    "print(\"原始CSV檔已儲存完畢\")"
   ]
  },
  {
   "cell_type": "code",
   "execution_count": null,
   "id": "02dd76b3",
   "metadata": {},
   "outputs": [],
   "source": [
    "# 執行ETL\n",
    "# 檢查是否有缺失值\n",
    "df.isna().any()\n",
    "\n",
    "# 對醫院名稱欄位的值做清理\n",
    "df[\"hospital_name\"] = df[\"hospital_name\"].str.split(\"名稱：\").str[-1].str.strip()\n",
    "\n",
    "# 儲存ETL後的CSV檔\n",
    "path = \"../../data/processed/hospital_24_hr_data_ETL.csv\"\n",
    "os.makedirs(os.path.dirname(path), exist_ok=True)\n",
    "df.to_csv(path, index=False)\n",
    "print(\"ETL後的CSV檔已儲存完畢\")"
   ]
  }
 ],
 "metadata": {
  "kernelspec": {
   "display_name": "pet-project-L5kVQw3q-py3.13",
   "language": "python",
   "name": "python3"
  },
  "language_info": {
   "codemirror_mode": {
    "name": "ipython",
    "version": 3
   },
   "file_extension": ".py",
   "mimetype": "text/x-python",
   "name": "python",
   "nbconvert_exporter": "python",
   "pygments_lexer": "ipython3",
   "version": "3.13.7"
  }
 },
 "nbformat": 4,
 "nbformat_minor": 5
}
