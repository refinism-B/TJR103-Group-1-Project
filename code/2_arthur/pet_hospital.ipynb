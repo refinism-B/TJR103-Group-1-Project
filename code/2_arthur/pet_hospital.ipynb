{
 "cells": [
  {
   "cell_type": "code",
   "execution_count": null,
   "id": "fe87cdae",
   "metadata": {},
   "outputs": [],
   "source": [
    "import os\n",
    "import time\n",
    "import numpy as np\n",
    "import pandas as pd\n",
    "from bs4 import BeautifulSoup\n",
    "from selenium import webdriver\n",
    "from selenium.webdriver.edge.options import Options\n",
    "from selenium.webdriver.common.by import By\n",
    "from selenium.common import exceptions\n",
    "\n",
    "NoSuchElementException = exceptions.NoSuchElementException\n",
    "NoSuchAttributeException = exceptions.NoSuchAttributeException"
   ]
  },
  {
   "cell_type": "code",
   "execution_count": null,
   "id": "df9ce169",
   "metadata": {},
   "outputs": [],
   "source": [
    "URL = \"https://ahis9.aphia.gov.tw/Veter/OD/HLIndex.aspx\"\n",
    "\n",
    "# 對edge的options加上headers\n",
    "options = Options()\n",
    "options.add_argument(\"user-agent=MyAgent/1.0\")\n",
    "\n",
    "driver = webdriver.Edge(options=options)\n",
    "driver.get(URL)\n",
    "time.sleep(2)\n",
    "\n",
    "try:\n",
    "    # 取得識別碼的圖片元素\n",
    "    captcha_img = driver.find_element(\n",
    "        By.ID, \"ctl00_ContentPlaceHolder1_imgValidateCode\"\n",
    "    )\n",
    "\n",
    "    # 透過img的src取得驗證碼\n",
    "    # src的連結中，=後面的數字即為驗證碼\n",
    "    captcha_src = captcha_img.get_attribute(\"src\").split(\"=\")[-1]\n",
    "    print(f\"驗證碼為: {captcha_src}\")\n",
    "\n",
    "    # 找到文字輸入框並將輸入驗證碼\n",
    "    driver.find_element(\n",
    "        By.ID, \"ctl00_ContentPlaceHolder1_Field_ValidateCode\"\n",
    "    ).send_keys(captcha_src)\n",
    "\n",
    "    # 點擊查詢按鈕\n",
    "    driver.find_element(By.ID, \"ctl00_ContentPlaceHolder1_btnSave\").click()\n",
    "except NoSuchElementException as err:\n",
    "    print(err)\n",
    "except NoSuchAttributeException as err:\n",
    "    print(err)\n",
    "    \n",
    "time.sleep(3)"
   ]
  },
  {
   "cell_type": "code",
   "execution_count": null,
   "id": "ba35b102",
   "metadata": {},
   "outputs": [],
   "source": [
    "# 取得網頁原始碼\n",
    "html = driver.page_source\n",
    "\n",
    "# 使用bs4解析\n",
    "soup = BeautifulSoup(html, \"html.parser\")"
   ]
  },
  {
   "cell_type": "code",
   "execution_count": null,
   "id": "7ee07bdd",
   "metadata": {},
   "outputs": [],
   "source": [
    "# 取得class = col-md-12 col-xs-12 的div tag\n",
    "div_tag = soup.select(\"div.col-md-12.col-xs-12 > div.col-md-12\")\n",
    "\n",
    "# 依序取得div tag裡面的text\n",
    "hospital_list =[div.get_text(strip=True) for div in div_tag]\n",
    "\n",
    "# 將hospital list中的元素每7個自行組成一個list\n",
    "grouped_hospital_list = [hospital_list[i: i+7] for i in range(0, len(hospital_list), 7)]\n",
    "\n",
    "# 創建DataFrame\n",
    "columns = [\"name\", \"license\", \"license_date\", \"vet\", \"tel\", \"address\", \"service\"]\n",
    "df = pd.DataFrame(data=grouped_hospital_list, columns=columns)\n",
    "print(\"DataFrame已建置完成\")\n",
    "\n",
    "# 儲存為csv檔\n",
    "path = \"../../data/raw/hospital_data.csv\"\n",
    "# 若目錄不存在則建立\n",
    "os.makedirs(os.path.dirname(path), exist_ok=True)\n",
    "df.to_csv(path, index=False)\n",
    "print(\"原始CSV檔已儲存完畢\")\n"
   ]
  },
  {
   "cell_type": "code",
   "execution_count": null,
   "id": "96282108",
   "metadata": {},
   "outputs": [],
   "source": [
    "# ETL\n",
    "need_revised_columns = [\"license\", \"license_date\", \"vet\", \"tel\", \"address\", \"service\"]\n",
    "\n",
    "# 移除:前面的資料\n",
    "for col in need_revised_columns:\n",
    "    df[col] = df[col].str.split(\"：\").str[-1].str.strip()\n",
    "\n",
    "# 將空字串設為NaN\n",
    "df = df.replace({\"\":np.nan})\n",
    "df = df.fillna(\"無此資訊\")\n",
    "\n",
    "# 儲存為整理後的csv\n",
    "path = \"../../data/processed/hospital_data_ETL.csv\"\n",
    "os.makedirs(os.path.dirname(path), exist_ok=True)\n",
    "df.to_csv(path, index=False)\n",
    "print(\"ETL後的CSV檔已儲存完畢\")"
   ]
  }
 ],
 "metadata": {
  "kernelspec": {
   "display_name": "pet-project-L5kVQw3q-py3.13",
   "language": "python",
   "name": "python3"
  },
  "language_info": {
   "codemirror_mode": {
    "name": "ipython",
    "version": 3
   },
   "file_extension": ".py",
   "mimetype": "text/x-python",
   "name": "python",
   "nbconvert_exporter": "python",
   "pygments_lexer": "ipython3",
   "version": "3.13.8"
  }
 },
 "nbformat": 4,
 "nbformat_minor": 5
}
